{
 "cells": [
  {
   "cell_type": "markdown",
   "id": "2cd374aa-0660-4791-9772-0e20a3e207a5",
   "metadata": {},
   "source": [
    "## **2. Cadre théorique et pédagogique**\n",
    "> * 2.1 Introduction aux graphes\n",
    "> * 2.2 Composants et propriétés d’un graphe\n",
    "> * 2.3 Typologies de graphes (orientés, pondérés, dynamiques, etc.)\n",
    "> * 2.4 Notions fondamentales associées (nœuds, arcs, poids, degré, chemins, cycles…)\n",
    "> * 2.5 Introduction à la complexité algorithmique\n",
    "> * 2.6 Les grands types de problèmes de graphes (parcours, plus court chemin, VRP…)"
   ]
  },
  {
   "cell_type": "markdown",
   "id": "f0adde1c-ef73-4efb-be46-a7475e7c4084",
   "metadata": {},
   "source": [
    "### 2.1 Introduction aux graphe"
   ]
  },
  {
   "attachments": {},
   "cell_type": "markdown",
   "id": "f56f711e-0b05-47f1-8350-2bc568d25b3b",
   "metadata": {},
   "source": [
    "Cette problématique nécessite l'utilisation d'un graphe car il s'agit de trouver des trajets optimaux dans un réseau, et le graphe est l'outil mathématique le plus adapté pour représenter ce type de structure. \n",
    "\n",
    "De plus, un graphe offre une représentation **intuitive et visuelle** du système étudié. Par exemple, dans les parties suivantes, nous allons associer les lieux de résidence de clients aux sommets, et les routes ou connexions aux arêtes pondérées. \n",
    "\n",
    "Elle permet également d'intégrer facilement des **contraintes réelles** telles que les distances, les temps de trajets, les capacitées des véhicules ou les fenêtres temporelles.\n",
    "\n",
    "Enfin, la théorie des graphes constitue une base solide pour analyser la **complexité algorithmique** des problèmes de tournées et pour mobiliser des méthodes de résolution issues de la recherche opérationnelle.\n",
    "\n",
    "<hr>"
   ]
  },
  {
   "attachments": {},
   "cell_type": "markdown",
   "id": "87551122-2dbc-49cc-af69-e66ce174d81a",
   "metadata": {},
   "source": [
    "### 2.2 Composants et propriété d'un graphe\n",
    "\n",
    "#### 2.2.1 Les composants\n",
    "Nous allons vous donner trois exemple de graphe différents pour répresenter tous les composants :\n",
    "\n",
    "<div align=center>\n",
    "    <img src=./img/Exemple_composant_graphe.png alt=Exemple_de_graphe width=700px\n",
    "</div>"
   ]
  },
  {
   "cell_type": "markdown",
   "id": "c12a6951-60ec-4e4f-969c-da779b6a9c6a",
   "metadata": {},
   "source": [
    "* ***sommet*** : Les noeuds dans un graphe. Dans une situation réelle, il a été réprésenté un objet ou une entité. Dans ce projet, il a souvent représenté **un lieu de livraison**.\n",
    "* ***arête*** : Une arête est une relation reliant deux sommets d'un graphe. Dans une situation réelle, il a été réprésenté **la connexion possible entre deux lieux**.\n",
    "* ***arc*** : Un arc est l'arête dans **le graphe orienté**. Il relie deux sommets avec une direction précise, du sommet de départ vers le sommet d’arrivée. Dans ce projet, il correspond à **un trajet de livraison ayant un sens déterminé (par exemple, de A vers B)**.\n",
    "\n",
    "* ***pondéré*** : Un graphe est dit pondéré lorsque chaque arête ou arc est associé à une valeur numérique (poids). Dans une situation réelle, ce poids peut représenter **une distance, un temps de trajet, ou un coût énergétique**."
   ]
  },
  {
   "cell_type": "markdown",
   "id": "c46dbf03-791d-41b3-a880-c7cb898f9783",
   "metadata": {},
   "source": [
    "#### 2.2.2 Les propriétés\n",
    "\n",
    "Après avoir présenté les composants fondamentaux d'un graphe, il est également important de préciser certaine **propriétés** de mieux catatériser d'un graphe et de l'adapter à notre problématique.\n",
    "\n",
    "**1. Sommet de dégré**\n",
    "> * Graphe Non-Orienté -- **Degré de sommet = Nombre d'arête connecté à ce moment**\n",
    "> * Graphe Orienté -- **Degré de sommet = Degré entrant + Degré sorant**\n",
    ">> * **Degré entrant = Le nombre d'arcs entrant dans ce sommet**\n",
    ">> * **Degré sortant = Le nombre d'arcs émannat de ce sommet**\n",
    "\n",
    "\n",
    "**2. Voisin de sommet** \n",
    "\n",
    "> Le voisin d'un sommet, c'est l'ensemble des sommets directement reliés à ce moment par une arête."
   ]
  },
  {
   "cell_type": "markdown",
   "id": "e9c78e52-5275-4b28-87cb-27c4d9604614",
   "metadata": {
    "jp-MarkdownHeadingCollapsed": true
   },
   "source": [
    "<hr>\n",
    "\n",
    "### 2.3 Typologies de graphe\n",
    "\n",
    "1. **Graphe Non-Orienté :** Dans un graphe non-orienté, les arêtes sont **bidirectionnelles** : la connexion entre les sommets n'a pas de direction particulière.\n",
    "\n",
    "2. **Graphe Orienté :**\n",
    "> * Dans un graphe orienté, les arêtes ont **une direction (une flèche)** : elle vont d'un somme vers un autre.\n",
    "> * Ainsi, on ne parle pas d'**arête** (non-orienté), mais d'arc (arête orientée).\n",
    "> * Dans les représentations graphiques, on utilise des **flèches** pour indiquer le sens.\n",
    "\n",
    "3. **Graphe pondérée :** Chaque arête ou arc est associé à une valeur numérique (poids), représentant par exemple une distance, un temps ou un coût.\n",
    "\n",
    "4. **Graphe dynamique :** La structure du graphe évolue au cours du temps, avec des sommets ou des arêtes qui apparaissent, disparaissent ou changent de caractéristiques.\n",
    "\n",
    "5. **Autre graphe :** graphe complet, graphe biparti, multigraphe, graphe connexe, etc...\n",
    "\n",
    "<hr>"
   ]
  },
  {
   "cell_type": "markdown",
   "id": "339b46ba-1d47-48b1-a9bc-9702defdab17",
   "metadata": {
    "scrolled": true
   },
   "source": [
    "### 2.4 Notions fondamentales associées\n"
   ]
  },
  {
   "attachments": {},
   "cell_type": "markdown",
   "id": "549abdba-837d-4218-84f6-c363fe8ee68a",
   "metadata": {},
   "source": [
    "<div align=center>\n",
    "    <img src=./img/exemple_notion_fondamentale_graphe.png alt=Exemple_de_graphe width=500px\n",
    "</div>"
   ]
  },
  {
   "cell_type": "markdown",
   "id": "b0eeb938-0583-45c7-a0e2-150f0947bac4",
   "metadata": {},
   "source": [
    "1. **Chemin (path) :** Suite de sommets reliés par des arêtes/arcs.\n",
    "\n",
    "2. **Cycle :** Chemin fermé, début et fin sur le même sommet.\n",
    "> * **Cycle élémentaire :** ne passe pas deux fois par le même sommet.\n",
    "> * **Cycle hamiltonien :** passe par tous les sommets exactement une fois.\n",
    "> * **Cycle eulérien :** passe par toutes les arêtes exactement une fois.\n",
    "\n",
    "3. **Connexité :** Un graphe est connexe si tout sommet est atteignable depuis un autre.\n",
    "\n",
    "4. **Distance :** Longueur minimale d’un chemin (souvent somme des poids)."
   ]
  },
  {
   "cell_type": "markdown",
   "id": "a3df6848-2cee-48cf-9138-5838898c2bb5",
   "metadata": {},
   "source": [
    "<hr>\n",
    "\n",
    "### 2.5 Introduction à la complexité algorithmique\n",
    "\n",
    "La complexité algorithmique permet d'évaluer l'efficacité des algorithmes et de distinguer les problèmes faciles à résoudre de ceux qui sont plus difficiles.\n",
    "\n",
    "On s'intéresse à la fois à la croissance des ressources nécessaires et à la classification des problèmes selon leur nature `P`, `NP`, `NP-complet` et `NP-difficile` etc.\n",
    "\n",
    "#### 2.5.1 Complexité asymptotique (temps et espace)\n",
    "\n",
    "La complexité mesure l’évolution des ressources nécessaires en fonction de la taille de l’entrée n.\n",
    "\n",
    "Elle se décline en deux formes principales : **la complexité temporelle**, qui concerne le temps d’exécution, et **la complexité spatiale**, qui concerne la mémoire utilisée.\n",
    "\n",
    "Nous pouvons utiliser le diagramme ci-dessous pour illustrer différentes complexité temporelles :"
   ]
  },
  {
   "attachments": {},
   "cell_type": "markdown",
   "id": "e7f86b33-8379-4d03-9807-a5f90fbef202",
   "metadata": {},
   "source": [
    "<div align=center>\n",
    "    <img src=./img/Comparison_computational_complexity.png alt=Exemple_de_graphe width=350px\n",
    "</div>"
   ]
  },
  {
   "cell_type": "markdown",
   "id": "6de6173c-92c8-401b-8419-9d6c8078f84d",
   "metadata": {},
   "source": [
    "| O                | Type de complexité  | Explication |\n",
    "|------------------|---------------------|-------------|\n",
    "| **$O(1)$**         | Constante           | La ligne est plate, ce qui indique que la complexité temporelle est toujours constante, quelle que soit la taille de *n*.<br>- Il s’agit d’une situation idéale, comme la recherche d’éléments dans une table de hachage. |\n",
    "| **$O(log_2 N)$**     | Logarithmique       | Cette ligne croît très lentement par rapport à d’autres fonctions de complexité et se trouve généralement dans les algorithmes de partitionnement efficaces tels que la recherche par bisection. |\n",
    "| **$O(N)$**         | Linéaire            | Indique que la complexité temporelle de l’algorithme croît linéairement avec *N*. Couramment utilisé dans les algorithmes qui traversent des éléments, tels que les recherches linéaires simples. |\n",
    "| **$O(N·log_2 N)$**   | Quasi-linéaire      | Croît un peu plus vite que la complexité linéaire, mais plus lentement que la complexité au carré. Couramment utilisé dans les algorithmes de tri efficaces (par exemple, le tri rapide et le tri par subsomption). |\n",
    "| **$O(N^2)$**        | Quadratique         | La croissance est relativement rapide, souvent observée dans certains algorithmes violents ou des boucles imbriquées, comme dans les algorithmes de tri simples (tri à bulles, tri par sélection). |\n",
    "| **$O(2^N)$**       | Exponentielle       | La croissance est un peu plus rapide que la complexité linéaire, mais plus lente que la complexité quadratique. On la trouve dans certains problèmes NP-difficiles. |\n"
   ]
  },
  {
   "cell_type": "markdown",
   "id": "91dab2ca-de3e-4c71-8357-6852fbbcb91c",
   "metadata": {},
   "source": [
    "#### 2.5.2 Classes de problème : `P`,`NP`, `NP-complet` et `NP-difficile` "
   ]
  },
  {
   "cell_type": "markdown",
   "id": "59f2fb55-be5f-462d-be6b-aa8ba915fbdc",
   "metadata": {},
   "source": [
    "Au-delà de l'analyse de la complexité temporelle et spatiale, il est également nécessaire de classer les problèmes selon leur **degré de difficulté.**\n",
    "\n",
    "Cette classification, fondée sur la théorie de la complexité, distingue notament les problèmes résolus efficacement (class `P`) de ceux dont la résolution est plus complexe (`NP`, `NP-complet`, `NP-difficile`)"
   ]
  },
  {
   "attachments": {},
   "cell_type": "markdown",
   "id": "d4993160-58a3-42ee-8be1-e41d8519fa5e",
   "metadata": {},
   "source": [
    "\n",
    "<div align=center>\n",
    "    <img src=./img/p_problem.png alt=Exemple_de_graphe width=500px\n",
    "</div>\n"
   ]
  },
  {
   "cell_type": "markdown",
   "id": "b99ea3f1-f1ac-44d2-94c8-44a25cd8ef5e",
   "metadata": {},
   "source": [
    "* **Classe P :** Ensemble des problèmes qui peuvent être résolus en temps polynomial par un algorithme déterministe. Exemple : calcul d’un plus court chemin dans un graphe (algorithme de Dijkstra).\n",
    "\n",
    "* **Classe NP :** Ensemble des problèmes dont une solution peut être vérifiée en temps polynomial, mais pour lesquels on ne connaît pas toujours d’algorithme polynomial de résolution. Exemple : le problème du voyageur de commerce (TSP) en version décisionnelle.\n",
    "\n",
    "* **NP-complet :** Sous-ensemble de NP regroupant les problèmes les plus difficiles de cette classe. Si un seul problème NP-complet admettait une résolution en temps polynomial, alors tous les problèmes de NP pourraient être résolus efficacement. Exemple : problème de couverture de sommets (vertex cover).\n",
    "\n",
    "* **NP-difficile (NP-hard) :** Problèmes au moins aussi difficiles que les NP-complets, mais qui ne sont pas nécessairement dans NP (ils ne sont pas toujours vérifiables en temps polynomial). Exemple : la version d’optimisation du TSP ou le problème de tournées de véhicules (VRP)."
   ]
  },
  {
   "cell_type": "markdown",
   "id": "71975138-4a7d-4d4f-b924-edf9507cd1e3",
   "metadata": {},
   "source": [
    "<hr>\n",
    "\n",
    "### 2.6 Les grands types de problèmes de graphes\n",
    "\n",
    "Comme nous l'avons vu précédemment, la complexité algorithme permet de distinguer les problèmes facilese à résoudre (class `P`) de ceux beaucoup plus difficile (`NP`, `NP-complet`, `NP-difficile`).\n",
    "\n",
    "Cette distinction n'est pas seulement théorique : elle se trouve directement dans les **problèmes de graphes**, qui consistuent une part essentielle de l'algorithmique et de la recherche opérationnelle.\n",
    "\n",
    "En effet, certains problèmes de graphes appartiennent à la classe `P` et admettent des algorithmes efficaces (parcours, plus court chemin, flots), tandis que d'autres relèvent de `NP-difficile` (TSP, VRP, coloration de graphes).\n",
    "\n",
    "La section suivante présente les principaux types de problèmes de graphes afin d'illustrer concrètement cette différence.\n"
   ]
  },
  {
   "cell_type": "markdown",
   "id": "31bdb898-4427-4886-9c61-53173fbd80cb",
   "metadata": {},
   "source": [
    "#### 2.6.1 Problèmes polynominaux (classe `P`)\n",
    "\n",
    "Parmi les problèmes de graphes les plus connus et appartenant à la classe P, on distingue :\n",
    "\n",
    "* **Parcours de graphe (BFS, DFS) :** utilisés pour explorer un graphe, vérifier la connexité et identifier les composantes connexes.\n",
    "\n",
    "* **Plus court chemin :** ce problème consiste à trouver le chemin de coût minimal entre deux sommets. Il peut être résolu par des algorithmes polynomiaux tels que Dijkstra ou Bellman-Ford, et s’applique notamment dans les réseaux de transport et de communication.\n",
    "\n",
    "* **Arbre couvrant minimum (MST) :** déterminé par les algorithmes de Kruskal ou Prim, il permet de construire des réseaux à coût minimal (par exemple pour les infrastructures).\n",
    "\n",
    "* **Flot maximum :** résolu par Ford-Fulkerson, Edmonds-Karp ou Dinic, il est utilisé dans la logistique et la répartition de ressources.\n",
    "\n",
    "\n",
    "#### 2.6.2 Problèmes NP-complets / NP-difficiles\n",
    "Certains problèmes de graphes sont beaucoup plus complexes :\n",
    "\n",
    "* **Problème du voyageur de commerce (TSP) :** trouver une tournée passant par toutes les villes une seule fois avec un coût minimal. Ce problème est NP-difficile dans sa version optimisation. À petite échelle, il peut être résolu par des méthodes exactes (programmation linéaire en nombres entiers, Branch-and-Bound), mais à grande échelle, on utilise des heuristiques (2-opt, 3-opt) ou des métaheuristiques (recuit simulé, algorithmes génétiques, colonies de fourmis).\n",
    "\n",
    "* **Problème de tournées de véhicules (VRP) :** généralisation du TSP où plusieurs véhicules doivent effectuer des livraisons sous contraintes (capacités, fenêtres de temps). Il est également NP-difficile et constitue un enjeu majeur en logistique et transport. Les méthodes de résolution combinent souvent des relaxations mathématiques avec des métaheuristiques pour obtenir de bonnes solutions dans un temps limité.\n",
    "\n",
    "* **Coloration de graphe :** attribuer une couleur à chaque sommet de sorte que deux sommets adjacents n’aient pas la même couleur. C’est un problème NP-complet, utilisé dans l’ordonnancement, la planification et l’allocation de fréquences.\n",
    "\n",
    "* **Clique maximale / Couverture de sommets :** autres exemples de problèmes NP-complets, appliqués à l’analyse de réseaux sociaux ou à l’optimisation combinatoire.\n",
    "\n",
    "\n",
    "#### 2.6.3 Approches de résolution\n",
    "\n",
    "Pour les problèmes en P, on privilégie le choix d’algorithmes polynomiaux efficaces, adaptés à la taille de l’instance et à la structure du graphe.\n",
    "\n",
    "Pour les problèmes NP-complets ou NP-difficiles, on adopte une approche hybride :\n",
    "\n",
    "* Méthodes exactes pour de petites instances (programmation linéaire, Branch-and-Bound).\n",
    "\n",
    "* Algorithmes d’approximation lorsqu’une garantie de performance est nécessaire.\n",
    "\n",
    "* Heuristiques et métaheuristiques (recuit simulé, recherche tabou, algorithmes génétiques, colonies de fourmis, GRASP, etc.) pour traiter des instances de grande taille dans un temps raisonnable.\n"
   ]
  }
 ],
 "metadata": {
  "kernelspec": {
   "display_name": "Python [conda env:base] *",
   "language": "python",
   "name": "conda-base-py"
  },
  "language_info": {
   "codemirror_mode": {
    "name": "ipython",
    "version": 3
   },
   "file_extension": ".py",
   "mimetype": "text/x-python",
   "name": "python",
   "nbconvert_exporter": "python",
   "pygments_lexer": "ipython3",
   "version": "3.13.5"
  }
 },
 "nbformat": 4,
 "nbformat_minor": 5
}
