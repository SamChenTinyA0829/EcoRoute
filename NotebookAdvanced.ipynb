{
 "cells": [
  {
   "cell_type": "markdown",
   "metadata": {},
   "source": [
    "# 🚚 **Projet EcoRoute — Livrable 1 : Modélisation conceptuelle**\n",
    "\n",
    "![alt text](<Project Banner.png>)\n",
    "\n",
    "**ADEME — Optimisation des tournées de livraison durable**\n",
    "\n",
    "**Résumé** : ce notebook présente la modélisation conceptuelle du problème de tournées de livraison. Il définit le périmètre, les hypothèses, les données attendues, la formulation mathématique succincte, la complexité théorique et fournit des TODOs pour la transition vers le notebook technique.\n"
   ]
  },
  {
   "cell_type": "markdown",
   "metadata": {},
   "source": [
    "---\n",
    "\n",
    "## **0. Objectif du livrable**\n",
    "\n",
    "Ce premier livrable a pour but de :\n",
    ">\n",
    "> - Formaliser le problème en langage graphique et mathématique.\n",
    "> - Lister les données et formats exigés pour l'implémentation.\n",
    "> - Établir la complexité théorique et les implications méthodologiques.\n",
    "> - Préparer des repères et TODOs pour la phase technique (Livrable 2).\n",
    ">\n"
   ]
  },
  {
   "cell_type": "markdown",
   "metadata": {},
   "source": [
    "---\n",
    "\n",
    "## **1. Contexte**\n",
    "\n",
    "L'essor fulgurant du **e-commerce** et des **livraisons rapides** a profondément transformé les réseaux logistiques. Cette accélération s’accompagne d’une hausse considérable des **émissions de CO₂** et d’une **consommation énergétique** croissante.\n",
    "\n",
    "Face à ces enjeux, l’**ADEME** (_Agence de la Transition Écologique_) a lancé un **Appel à Manifestation d’Intérêt (AMI)** pour encourager le développement de solutions innovantes de **mobilité durable**.\n",
    "\n",
    "Notre équipe **CesiCDP** a été mandatée pour concevoir un modèle d’optimisation des tournées de livraison visant à concilier **performance logistique** et **impact environnemental réduit**.\n",
    "\n",
    "Le problème étudié est une extension du **Problème de Tournées de Véhicules** (_VRP — Vehicle Routing Problem_), dont l’objectif est de déterminer l’itinéraire optimal pour une flotte de véhicules afin de :\n",
    "\n",
    "- **minimiser la distance et la durée totales des trajets,**\n",
    "- **maximiser l’efficacité énergétique et la productivité,**\n",
    "- **garantir le respect des contraintes opérationnelles.**\n",
    "\n",
    "Afin d’assurer une modélisation fidèle aux contraintes industrielles, deux dimensions avancées sont intégrées dès ce livrable :\n",
    "\n",
    "- **Fenêtres de Temps (_Time Windows_)** : chaque client possède un créneau horaire défini. Le livreur peut arriver en avance et attendre sur site.\n",
    "- **Flotte Multiple** : plusieurs véhicules identiques (*k* camions) sont utilisés simultanément. L’objectif est de **minimiser le temps de retour du dernier véhicule (_Makespan_)**.\n"
   ]
  },
  {
   "cell_type": "markdown",
   "metadata": {},
   "source": [
    "---\n",
    "\n",
    "## **2. Problématique**\n",
    "\n",
    "> ***Comment planifier les tournées de livraison pour minimiser coûts opérationnels et impact environnemental tout en respectant les contraintes réelles (fenêtres de temps, capacités, trafic) ?***\n",
    "\n",
    "Ce problème est une extension du **Vehicle Routing Problem (VRP)**. Les variantes pertinentes ici sont :\n",
    "- **VRPTW** (fenêtres temporelles),\n",
    "- **Heterogeneous VRP** (flotte hétérogène),\n",
    "- **Time-dependent VRP** (temps de parcours en fonction de l'heure).\n"
   ]
  },
  {
   "cell_type": "markdown",
   "metadata": {},
   "source": [
    "---\n",
    "\n",
    "## **3. Hypothèses de modélisation**\n",
    "\n",
    "Les hypothèses retenues pour ce livrable :\n",
    "\n",
    "1. **Points de collecte et de livraison** : modélisés comme **nœuds** d'un graphe.\n",
    "2. **Arêtes** : représentent des trajets routiers.\n",
    "3. **Attributs des arêtes** : chaque arête possède une **distance** et un vecteur de **temps de parcours par tranche horaire** (modèle *piecewise-constant*).\n",
    "4. **Véhicules** : ressources avec capacités multi-dimensionnelles (poids, volume, etc.).\n",
    "5. **Compatibilité** : certains objets exigent des contraintes de compatibilité véhicule-objet.\n",
    "6. **Objectif** : combine distance, temps et estimation CO₂ (pondération paramétrable).\n",
    "7. **Tournées** : commencent et se terminent au dépôt (ou dépôts multiples selon l'extension).\n"
   ]
  },
  {
   "cell_type": "markdown",
   "metadata": {},
   "source": [
    "---\n",
    "\n",
    "## **4. Représentation formelle (synthèse)**\n",
    "\n",
    "Nous utilisons un graphe dirigé pondéré dynamique : **G = (V, E)**.\n",
    "\n",
    "**Ensembles et paramètres** :\n",
    "- V : nœuds (dépôt(s), points de collecte, points de livraison).\n",
    "- E : arêtes (i,j) représentant trajets possibles.\n",
    "- P : ensemble d'objets à collecter/livrer. Pour p∈P, c(p) est le nœud collecte et d(p) le nœud livraison.\n",
    "- K : ensemble de véhicules.\n"
   ]
  },
  {
   "cell_type": "markdown",
   "id": "33e7786f",
   "metadata": {},
   "source": [
    "### **Paramètres** :\n",
    "- $x_{ij}^k \\in \\{0,1\\}$ : l’arête $i \\to j$ est parcourue par le véhicule $k$.\n",
    "- $t_i$ : temps d’arrivée au nœud $i$.\n",
    "- $y_p^k \\in \\{0,1\\}$ : l’objet $p$ est affecté au véhicule $k$.\n",
    "\n",
    "**Objectif (exemple pondéré)** :\n",
    "*Insérer Schéma*"
   ]
  },
  {
   "cell_type": "markdown",
   "id": "8fd9b304",
   "metadata": {},
   "source": [
    "### **Code de test pour simulation du problème**\n",
    "> Ce bout de code doit permettre d'avoir une vue d'ensemnble sur le problème général.\n",
    "\n",
    "| Élément            | Description                                             | Exemple concret                                 |\n",
    "|--------------------|--------------------------------------------------------|-------------------------------------------------|\n",
    "| **Dépôt (node 0)** | Point de départ et d’arrivée de toutes les tournées    | Siège logistique principal                      |\n",
    "| **Clients (1–8)**  | Lieux de livraison avec contraintes                    | Client 3 → 120 kg, fenêtre 10h–13h              |\n",
    "| **Arêtes (edges)** | Routes entre deux points avec pondération multi-critères | Distance : 4.5 km, Temps : 27 min, CO₂ : 0.8 kg |\n",
    "| **Flotte**         | Liste des véhicules disponibles et leurs capacités     | V2 : 650 kg, électrique                         |\n",
    "| **Graphe NetworkX**| Structure manipulable pour calculs d’itinéraires       | `nx.DiGraph` pour modéliser les trajets dirigés  |"
   ]
  },
  {
   "cell_type": "markdown",
   "id": "fefd7020",
   "metadata": {},
   "source": [
    "### **Import des Bibliothèques**\n",
    "> Les library nécessaires à la bonne modélisation de notre problème"
   ]
  },
  {
   "cell_type": "code",
   "execution_count": null,
   "id": "c27f36e2",
   "metadata": {},
   "outputs": [],
   "source": [
    "# ============================================================\n",
    "# 🚚 Modélisation du problème VRP — Projet EcoRoute / ADEME\n",
    "# ============================================================\n",
    "\n",
    "import networkx as nx\n",
    "import random\n",
    "import pandas as pd\n"
   ]
  },
  {
   "cell_type": "code",
   "execution_count": null,
   "metadata": {},
   "outputs": [],
   "source": [
    "# -----------------------------\n",
    "# 1. Définition des paramètres\n",
    "# -----------------------------\n",
    "\n",
    "N_CLIENTS = 8\n",
    "N_VEHICULES = 3\n",
    "SEED = 42\n",
    "random.seed(SEED)\n",
    "\n",
    "# Fenêtres temporelles simulées (heures en minutes)\n",
    "TIME_WINDOWS = [(480, 600), (540, 720), (600, 780), (660, 840),\n",
    "                (720, 900), (780, 960), (840, 1020), (900, 1080)]\n",
    "\n",
    "# -----------------------------\n",
    "# 2. Génération du graphe\n",
    "# -----------------------------\n",
    "\n",
    "G = nx.complete_graph(N_CLIENTS + 1, create_using=nx.DiGraph())  # +1 pour le dépôt\n",
    "positions = {}\n",
    "\n",
    "# Ajout du dépôt (node 0)\n",
    "G.nodes[0]['type'] = 'depot'\n",
    "G.nodes[0]['location'] = (0, 0)\n",
    "G.nodes[0]['time_window'] = (480, 1080)  # 8h00 - 18h00\n",
    "positions[0] = (0, 0)"
   ]
  },
  {
   "cell_type": "code",
   "execution_count": null,
   "id": "ebbd4097",
   "metadata": {},
   "outputs": [],
   "source": [
    "# -----------------------------\n",
    "# 3. Ajout des clients\n",
    "# -----------------------------\n",
    "for i in range(1, N_CLIENTS + 1):\n",
    "    G.nodes[i]['type'] = 'client'\n",
    "    G.nodes[i]['demand_kg'] = random.randint(50, 200)\n",
    "    G.nodes[i]['location'] = (random.uniform(1, 10), random.uniform(1, 10))\n",
    "    G.nodes[i]['time_window'] = TIME_WINDOWS[i - 1]\n",
    "    G.nodes[i]['priority'] = random.choice(['normale', 'haute'])\n",
    "    positions[i] = G.nodes[i]['location']\n",
    "\n",
    "# -----------------------------\n",
    "# 4. Pondération des arêtes\n",
    "# -----------------------------\n",
    "for i in G.nodes:\n",
    "    for j in G.nodes:\n",
    "        if i != j:\n",
    "            x1, y1 = G.nodes[i]['location']\n",
    "            x2, y2 = G.nodes[j]['location']\n",
    "            distance = ((x2 - x1)**2 + (y2 - y1)**2)**0.5\n",
    "\n",
    "            # Variation du temps de trajet selon l’heure (facteur simplifié)\n",
    "            traffic_factor = random.uniform(1.0, 1.5)\n",
    "            time = distance * traffic_factor * 6  # minutes (≈10 km/h)\n",
    "\n",
    "            # Coût environnemental simplifié\n",
    "            co2 = distance * random.uniform(0.12, 0.25)  # kg CO₂/km\n",
    "\n",
    "            G[i][j]['distance_km'] = round(distance, 2)\n",
    "            G[i][j]['time_min'] = round(time, 1)\n",
    "            G[i][j]['co2_kg'] = round(co2, 3)"
   ]
  },
  {
   "cell_type": "code",
   "execution_count": null,
   "id": "e18f8fdf",
   "metadata": {},
   "outputs": [],
   "source": [
    "# -----------------------------\n",
    "# 5. Flotte de véhicules\n",
    "# -----------------------------\n",
    "vehicules = pd.DataFrame([\n",
    "    {'id': f'V{i+1}', 'cap_kg': random.randint(400, 700),\n",
    "     'dispo': (480, 1080), 'type': random.choice(['électrique', 'diesel'])}\n",
    "    for i in range(N_VEHICULES)\n",
    "])\n",
    "\n"
   ]
  },
  {
   "cell_type": "markdown",
   "id": "0f19880e",
   "metadata": {},
   "source": [
    "### **Visualisation des données**"
   ]
  },
  {
   "cell_type": "code",
   "execution_count": null,
   "id": "6d251587",
   "metadata": {},
   "outputs": [],
   "source": [
    "# -----------------------------\n",
    "# 6. Affichage synthétique\n",
    "# -----------------------------\n",
    "print(\"=== DÉPÔT ===\")\n",
    "print(G.nodes[0])\n",
    "print(\"\\n=== CLIENTS ===\")\n",
    "for i in range(1, N_CLIENTS + 1):\n",
    "    print(f\"Client {i} :\", G.nodes[i])\n",
    "\n",
    "print(\"\\n=== FLOTTE DE VÉHICULES ===\")\n",
    "print(vehicules)\n",
    "\n",
    "print(\"\\n=== Exemple de pondération (arête 0→1) ===\")\n",
    "print(G[0][1])\n",
    "\n",
    "# -----------------------------\n",
    "# 7. Visualisation du graphe\n",
    "# -----------------------------\n",
    "import matplotlib.pyplot as plt\n",
    "\n",
    "edge_labels = {(i, j): f\"{G[i][j]['distance_km']} km\" for i, j in G.edges}\n",
    "nx.draw(G, positions, with_labels=True, node_size=700, node_color=\"lightblue\", font_weight='bold')\n",
    "nx.draw_networkx_edge_labels(G, positions, edge_labels=edge_labels, font_size=8)\n",
    "plt.title(\"Modélisation du réseau de livraison (EcoRoute - ADEME)\")\n",
    "plt.show()\n"
   ]
  },
  {
   "cell_type": "markdown",
   "id": "4f204dac",
   "metadata": {},
   "source": [
    "### Objectifs du Code :\n",
    " => Construire un Graphe Pondéré Orienté, lequel permet de modéliser :\n",
    "- Un dépot central, \n",
    "- Plusieurs Clients avec des fênetres temporelles \n",
    "- Une flotte de véhicules avec capacités et disponibilités accessibles, \n",
    "- Et des liaisons routières pondérées par distance, temps, et cout environnemental."
   ]
  },
  {
   "cell_type": "markdown",
   "metadata": {},
   "source": [
    "---\n",
    "\n",
    "## 5. Contraintes (détail et exemples)\n",
    "\n",
    "**Contraintes fondamentales** :\n",
    "\n",
    "1. *Visite unique* : chaque point de livraison fixé doit être desservi une fois (ou marqué comme non-servi avec pénalité).\n",
    "\n",
    "2. *Capacité* : pour tout véhicule $k$ et chaque ressource $r$, la charge cumulée ne dépasse pas $Q_k^{(r)}$.\n",
    "\n",
    "3. *Fenêtres temporelles* : l'arrivée $t_i$ doit satisfaire $a_i \\leq t_i \\leq b_i$ ; l'attente est autorisée si nécessaire.\n",
    "\n",
    "4. *Pickup & delivery* : pour chaque objet $p$ affecté à $k$, la visite du nœud collecte $c(p)$ précède celle de $d(p)$.\n",
    "\n",
    "5. *Compatibilité* : $y_p^k \\leq \\text{compat}_{k,p}$.\n",
    "\n",
    "6. *Temps dépendant* : si $x_{ij}^k=1$ avec départ à $t_i$, alors $t_j \\geq t_i + s_i + t_{ij}^{\\tau(t_i)}$.\n",
    "\n",
    "**Exemples courts** :\n",
    "- Cas fenêtre temporelle : si un client accepte livraison entre $9\\text{h}–11\\text{h}$ et le camion arrive à $8\\text{h}50$, il peut attendre jusqu'à $9\\text{h}$.\n",
    "- Cas compatibilité : colis réfrigéré $\\rightarrow$ nécessaire véhicule équipé réfrigération ($\\text{compat}_{k,p}=1$ sinon $0$).\n"
   ]
  },
  {
   "cell_type": "markdown",
   "metadata": {},
   "source": [
    "---\n",
    "\n",
    "## **6. Complexité théorique (explication pédagogique)**\n",
    "\n",
    "**Pourquoi se préoccuper de la complexité ?**\n",
    "- Le choix d'une méthode dépend de la classe de complexité du problème de décision associé.\n",
    "- Si le problème est NP‑complet, rechercher une garantie d'optimalité sur de grandes instances devient impraticable.\n",
    "\n",
    "**Remarque clé (intuitive)** : la version basique du TSP est NP‑complet. Les variantes du VRP (VRPTW, HVRP, TDVRP) restent, au sens général, NP‑difficiles ou NP‑complets pour les problèmes de décision associés.\n",
    "\n",
    "**Conséquences pratiques** :\n",
    "- Pour des instances de taille faible à moyenne (n ≲ 100), les méthodes exactes (PLNE, Branch & Cut) peuvent être envisageables.\n",
    "- Pour des instances réelles (n > 1000), il faut privilégier **heuristiques et métaheuristiques** (ALNS, Tabu, Simulated Annealing, etc.).\n",
    "\n",
    "**Petite preuve d'appartenance à NP (idée)** :\n",
    "- On montre qu'un certificat (une affectation de clients aux tournées et un ordre de visite) permet de vérifier en temps polynomial que toutes les contraintes sont satisfaites et que le coût ≤ B pour un seuil B donné.\n",
    "\n",
    "(On renverra à la littérature et à des preuves formelles pour la version PLNE dans le livrable technique.)\n"
   ]
  },
  {
   "cell_type": "markdown",
   "metadata": {},
   "source": [
    "---\n",
    "\n",
    "## **7. Données attendues et format (exemples)**\n",
    "\n",
    "Nous recommandons les fichiers CSV suivants (colonnes proposées) :\n",
    "\n",
    "**nodes.csv** : `node_id,type,object_id,weight,volume,a,b,service_time,compatible_vehicles,lat,lon`\n",
    "\n",
    "**edges.csv** : `from_id,to_id,distance,base_cost,slot_0_time,slot_1_time,slot_2_time,...`\n",
    "\n",
    "**objects.csv** : `object_id,pickup_node,delivery_node,weight,volume,compatible_vehicles`\n",
    "\n",
    "**vehicles.csv** : `vehicle_id,weight_capacity,volume_capacity,start_node,end_node,compatible_object_types`\n",
    "\n",
    "**time_slots.csv** (optionnel) : `slot_index,start_minute,end_minute,description`\n",
    "\n",
    "Ces formats seront pris en charge par le notebook technique. Les valeurs manquantes devront être traitées explicitement (warnings/erreurs).\n"
   ]
  },
  {
   "cell_type": "markdown",
   "metadata": {},
   "source": [
    "---\n",
    "\n",
    "## **8. Pistes de solution (haut niveau)**\n",
    "\n",
    "**Approche par niveaux :**\n",
    "\n",
    "1. **Version de preuve** (petites instances) :\n",
    "   - Formulation PLNE pour valider le modèle et produire solutions de référence.\n",
    "\n",
    "2. **Constructif + Amélioration locale** :\n",
    "   - Algorithmes constructifs rapides (Clarke-Wright, Nearest Neighbor) pour solution initiale.\n",
    "   - Opérateurs locaux : 2-opt, 3-opt, Relocate, Swap, Or-opt.\n",
    "\n",
    "3. **Métaheuristique hybride (cible)** :\n",
    "   - ALNS (Adaptive Large Neighbourhood Search) recommandé pour sa modularité et sa capacité à gérer contraintes multiples.\n",
    "\n",
    "4. **Mesures & benchmarks** :\n",
    "   - Utiliser vrplib pour instances de référence.\n",
    "   - Mesurer gap, temps CPU, courbes de convergence et boxplots sur 20 runs.\n"
   ]
  },
  {
   "cell_type": "markdown",
   "metadata": {},
   "source": [
    "---\n",
    "\n",
    "## **9. Validation et tests (plan)**\n",
    "\n",
    "Avant toute optimisation, vérifier :\n",
    "- Cohérence des données (pickup existant, fenêtres valides).\n",
    "- Feasibility quick-check : somme demandes ≤ somme capacités (sanity check).\n",
    "- Construction d'instances tests : small (5–10 objets), medium (50–100), large (200–2000).\n",
    "\n",
    "Protocoles de validation expérimentale :\n",
    "- Pour chaque instance : 20 runs, enregistrez coût final, temps CPU, et statistiques (moyenne, mediane, écart-type).\n",
    "- Calcul du gap par rapport aux solutions références lorsque disponibles.\n"
   ]
  },
  {
   "cell_type": "markdown",
   "metadata": {},
   "source": [
    "---\n",
    "\n",
    "## **10. TODOs et transition vers le notebook technique**\n",
    "\n",
    "Les items ci‑dessous doivent figurer comme **cellules TODO** dans le notebook technique :\n",
    "\n",
    "1. `# TODO: Charger les CSV et valider les schémas`\n",
    "2. `# TODO: Construire networkx.DiGraph avec attributs nodes/edges`\n",
    "3. `# TODO: Implémenter get_travel_time(i,j,departure)` (tranches horaires)`\n",
    "4. `# TODO: Écrire un validateur d'instances (tests de cohérence)`\n",
    "5. `# TODO: Implémenter un algorithme constructif de référence (Clarke-Wright)`\n",
    "6. `# TODO: Implémenter opérateurs locaux (2-opt, relocate, swap)`\n",
    "7. `# TODO: Implémenter ALNS skeleton (destroy/repair operators)`\n",
    "8. `# TODO: Scripts d'expérimentation (20 runs, courbes, boxplots)`\n",
    "9. `# TODO: Intégrer vrplib pour benchmarks`\n",
    "10. `# TODO: Rapport automatique des métriques (gap, temps, CO2)`\n"
   ]
  },
  {
   "cell_type": "code",
   "execution_count": null,
   "metadata": {},
   "outputs": [],
   "source": [
    "# TODO: Exemple de cellule placeholder pour le notebook technique\n",
    "# Elle ne s'exécute pas ici ; elle sert de repère pour l'équipe.\n",
    "\n",
    "# Chargement (exemple)\n",
    "# import pandas as pd\n",
    "# nodes = pd.read_csv('data/nodes.csv')\n",
    "# edges = pd.read_csv('data/edges.csv')\n",
    "\n",
    "# Construction graphe (squelette)\n",
    "# import networkx as nx\n",
    "# G = nx.DiGraph()\n",
    "# for _, r in nodes.iterrows():\n",
    "#     G.add_node(r.node_id, ...)\n",
    "# for _, e in edges.iterrows():\n",
    "#     G.add_edge(e.from_id, e.to_id, ...)\n",
    "\n",
    "print('TODO placeholders — implémenter dans le notebook technique')"
   ]
  },
  {
   "cell_type": "markdown",
   "metadata": {},
   "source": [
    "---\n",
    "\n",
    "## **11. Annexes pédagogiques et références**\n",
    "\n",
    "### **Ressources Consultées** :\n",
    "- Cormen et al., _Introduction to Algorithms_ (sections complexité, graphes).\n",
    "- Sakarovitch, _Optimisation combinatoire_.\n",
    "\n",
    "### **Articles et tutoriels**:\n",
    "- [Vidéos et supports fournis dans le cadre du cours (NP-complet, graphes).\n",
    "](https://scenari.cesi.fr/~~static/distrib/fr-FR/prv-lti/cesi/player.xhtml?ltiConnectionId=127)\n",
    "- [Implementing Vehicle Routing Problem Solutions with Python](https://diogoribeiro7.github.io/operations%20research/data%20science/logistics/Vehicle_Routing_Problem/)\n",
    "- [Opti des trajets de livraison (CDP)](https://cahier-de-prepa.fr/mpi-faidherbe/download?id=326)\n",
    "- [Simple Science - Multicycle de Steiner](https://scisimple.com/fr/articles/2025-10-09-optimiser-les-itineraires-avec-le-probleme-de-steiner-multicycle--a9p6pd4#:~:text=Le%20Probl%C3%A8me%20des%20Multicycles%20de%20Steiner%20est%20un,un%20graphe%20tout%20en%20minimisant%20le%20co%C3%BBt%20global.)\n",
    "- [Graphs | Navigating the Vehicle Routing Problem (VRP) using Python](https://lopezyse.medium.com/graphs-navigating-the-vehicle-routing-problem-vrp-using-python-ceefd05fbe4f)\n"
   ]
  },
  {
   "cell_type": "markdown",
   "metadata": {},
   "source": [
    "---\n",
    "\n",
    "## 12. Conclusion\n",
    "\n",
    "Ce livrable 1 formalise les choix de modélisation et fournit une feuille de route claire pour le notebook technique. Il justifie les choix méthodologiques par la complexité du problème et prépare l'équipe à la phase d'implémentation et d'expérimentation.\n",
    "\n",
    "**Prochaine étape** : implémenter les TODOs dans le notebook technique et lancer les premiers tests sur des instances small/medium avant d'attaquer les grosses instances.\n"
   ]
  }
 ],
 "metadata": {
  "kernelspec": {
   "display_name": "base",
   "language": "python",
   "name": "python3"
  },
  "language_info": {
   "codemirror_mode": {
    "name": "ipython",
    "version": 3
   },
   "file_extension": ".py",
   "mimetype": "text/x-python",
   "name": "python",
   "nbconvert_exporter": "python",
   "pygments_lexer": "ipython3",
   "version": "3.12.4"
  }
 },
 "nbformat": 4,
 "nbformat_minor": 5
}
